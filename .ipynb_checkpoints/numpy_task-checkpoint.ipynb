{
 "cells": [
  {
   "cell_type": "markdown",
   "id": "624df055",
   "metadata": {},
   "source": [
    "### Task\n",
    "\n",
    "In this notebook you are required to complete the task given to you for each code cell and submit the `.ipynb` on my email.\n",
    "\n",
    "1. import the module `numpy` with an alias of `np` in the following code cell and chech the version of numpy that you are running."
   ]
  },
  {
   "cell_type": "code",
   "execution_count": 1,
   "id": "0e795335",
   "metadata": {},
   "outputs": [
    {
     "data": {
      "text/plain": [
       "'1.24.3'"
      ]
     },
     "execution_count": 1,
     "metadata": {},
     "output_type": "execute_result"
    }
   ],
   "source": [
    "import numpy as np\n",
    "np.__version__"
   ]
  },
  {
   "cell_type": "markdown",
   "id": "884d9278",
   "metadata": {},
   "source": [
    "2. Generate an array of random numbers of the following shape `(2, 3, 4)` using the `np.random.rand()` and store that array in a variable `A` function that you can read about how it works [here](https://numpy.org/doc/stable/reference/random/generated/numpy.random.rand.html)."
   ]
  },
  {
   "cell_type": "code",
   "execution_count": 3,
   "id": "c56d9cb0",
   "metadata": {},
   "outputs": [
    {
     "data": {
      "text/plain": [
       "array([[[0.25724934, 0.43170285, 0.75775721, 0.02670265],\n",
       "        [0.5353438 , 0.83983427, 0.06101617, 0.04646585],\n",
       "        [0.17880071, 0.87805103, 0.2698051 , 0.38753433]],\n",
       "\n",
       "       [[0.75942967, 0.34823214, 0.38071562, 0.99122218],\n",
       "        [0.1448671 , 0.55308975, 0.69145819, 0.58196107],\n",
       "        [0.0151304 , 0.20553741, 0.38517453, 0.1339232 ]]])"
      ]
     },
     "execution_count": 3,
     "metadata": {},
     "output_type": "execute_result"
    }
   ],
   "source": [
    "A = np.random.rand(2, 3, 4)\n",
    "A"
   ]
  },
  {
   "cell_type": "markdown",
   "id": "fca84e27",
   "metadata": {},
   "source": [
    "3. Re-shape array `A` so that this array can be have a shape of `(4, N)` and store the values in a variable `C` and change the \n",
    "datatype of `C` to `float32` in the following code cell."
   ]
  },
  {
   "cell_type": "code",
   "execution_count": 4,
   "id": "0aa2fe20",
   "metadata": {},
   "outputs": [
    {
     "data": {
      "text/plain": [
       "array([[0.25724936, 0.43170285, 0.7577572 , 0.02670265, 0.5353438 ,\n",
       "        0.8398343 ],\n",
       "       [0.06101618, 0.04646585, 0.17880072, 0.87805104, 0.2698051 ,\n",
       "        0.38753432],\n",
       "       [0.7594297 , 0.34823215, 0.3807156 , 0.9912222 , 0.14486709,\n",
       "        0.55308974],\n",
       "       [0.69145817, 0.5819611 , 0.01513041, 0.20553741, 0.3851745 ,\n",
       "        0.1339232 ]], dtype=float32)"
      ]
     },
     "execution_count": 4,
     "metadata": {},
     "output_type": "execute_result"
    }
   ],
   "source": [
    "C = A.reshape(4, -1).astype(np.float32)\n",
    "C"
   ]
  },
  {
   "cell_type": "markdown",
   "id": "bf279b38",
   "metadata": {},
   "source": [
    "3. Given the following matrices `E`, `F` and `G` perform the following task on these arrays."
   ]
  },
  {
   "cell_type": "code",
   "execution_count": 5,
   "id": "67c00178",
   "metadata": {},
   "outputs": [],
   "source": [
    "E = np.array([[2, 4, 6], [3, -9, 8], [3, 6, -1]])\n",
    "F = np.array([[4, 5, 7], [-1, 7, 2]])\n",
    "G = np.array([[2, 3], [4, 7]])\n"
   ]
  },
  {
   "cell_type": "markdown",
   "id": "8b07fbf7",
   "metadata": {},
   "source": [
    "a. calculate the `dot` product of `E` and `F` these matrices"
   ]
  },
  {
   "cell_type": "code",
   "execution_count": 7,
   "id": "79aa9f01",
   "metadata": {},
   "outputs": [
    {
     "data": {
      "text/plain": [
       "array([[ 70,  38],\n",
       "       [ 23, -50],\n",
       "       [ 35,  37]])"
      ]
     },
     "execution_count": 7,
     "metadata": {},
     "output_type": "execute_result"
    }
   ],
   "source": [
    "product = np.dot(E, F.T)\n",
    "product"
   ]
  },
  {
   "cell_type": "markdown",
   "id": "92b4f8a0",
   "metadata": {},
   "source": [
    "b. do element wise multiplication  `F` and the first two rows of `E`"
   ]
  },
  {
   "cell_type": "code",
   "execution_count": 13,
   "id": "d90a332a",
   "metadata": {},
   "outputs": [
    {
     "data": {
      "text/plain": [
       "array([[  8,  20,  42],\n",
       "       [ -3, -63,  16]])"
      ]
     },
     "execution_count": 13,
     "metadata": {},
     "output_type": "execute_result"
    }
   ],
   "source": [
    "Z = E[:-1]\n",
    "\n",
    "element_wise = Z * F\n",
    "element_wise"
   ]
  },
  {
   "cell_type": "markdown",
   "id": "61c090de",
   "metadata": {},
   "source": [
    "c. do element wise division on `F` and the last two rows of `E`"
   ]
  },
  {
   "cell_type": "code",
   "execution_count": 15,
   "id": "d7980a0a",
   "metadata": {},
   "outputs": [
    {
     "data": {
      "text/plain": [
       "array([[ 0.75      , -1.8       ,  1.14285714],\n",
       "       [-3.        ,  0.85714286, -0.5       ]])"
      ]
     },
     "execution_count": 15,
     "metadata": {},
     "output_type": "execute_result"
    }
   ],
   "source": [
    "Z = E[1:]\n",
    "element_wise = Z / F\n",
    "element_wise"
   ]
  },
  {
   "cell_type": "markdown",
   "id": "83444663",
   "metadata": {},
   "source": [
    "d. do element wise subtraction on `F` and the last two rows of `E`"
   ]
  },
  {
   "cell_type": "code",
   "execution_count": 17,
   "id": "333e0c52",
   "metadata": {},
   "outputs": [
    {
     "data": {
      "text/plain": [
       "array([[ -1, -14,   1],\n",
       "       [  4,  -1,  -3]])"
      ]
     },
     "execution_count": 17,
     "metadata": {},
     "output_type": "execute_result"
    }
   ],
   "source": [
    "element_wise = Z - F\n",
    "element_wise"
   ]
  },
  {
   "cell_type": "markdown",
   "id": "e4047fdb",
   "metadata": {},
   "source": [
    "g. do matrix multiplication on matrix `G` and `F`"
   ]
  },
  {
   "cell_type": "code",
   "execution_count": 20,
   "id": "c1a91778",
   "metadata": {},
   "outputs": [
    {
     "data": {
      "text/plain": [
       "array([[ 5, 31, 20],\n",
       "       [ 9, 69, 42]])"
      ]
     },
     "execution_count": 20,
     "metadata": {},
     "output_type": "execute_result"
    }
   ],
   "source": [
    "res = np.matmul(G, F)\n",
    "res"
   ]
  },
  {
   "cell_type": "markdown",
   "id": "1cde5291",
   "metadata": {},
   "source": [
    "f. compute the deteminant of `E`\n"
   ]
  },
  {
   "cell_type": "code",
   "execution_count": 21,
   "id": "1680543f",
   "metadata": {},
   "outputs": [
    {
     "data": {
      "text/plain": [
       "299.99999999999994"
      ]
     },
     "execution_count": 21,
     "metadata": {},
     "output_type": "execute_result"
    }
   ],
   "source": [
    "det = np.linalg.det(E)\n",
    "det"
   ]
  },
  {
   "cell_type": "markdown",
   "id": "674c63dd",
   "metadata": {},
   "source": [
    "g. find the inverse of `G`\n",
    "\n",
    "> Note that to switch the dimension for matrix maltiplication that is not element wise you use the `np.transpose()` or `array.T`"
   ]
  },
  {
   "cell_type": "code",
   "execution_count": 22,
   "id": "747d3617",
   "metadata": {},
   "outputs": [
    {
     "data": {
      "text/plain": [
       "array([[ 3.5, -1.5],\n",
       "       [-2. ,  1. ]])"
      ]
     },
     "execution_count": 22,
     "metadata": {},
     "output_type": "execute_result"
    }
   ],
   "source": [
    "inv = np.linalg.inv(G)\n",
    "inv"
   ]
  },
  {
   "cell_type": "code",
   "execution_count": null,
   "id": "9ba52a02",
   "metadata": {},
   "outputs": [],
   "source": []
  }
 ],
 "metadata": {
  "kernelspec": {
   "display_name": "Python 3 (ipykernel)",
   "language": "python",
   "name": "python3"
  },
  "language_info": {
   "codemirror_mode": {
    "name": "ipython",
    "version": 3
   },
   "file_extension": ".py",
   "mimetype": "text/x-python",
   "name": "python",
   "nbconvert_exporter": "python",
   "pygments_lexer": "ipython3",
   "version": "3.11.4"
  }
 },
 "nbformat": 4,
 "nbformat_minor": 5
}
