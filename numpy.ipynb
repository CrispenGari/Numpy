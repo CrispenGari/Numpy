{
 "cells": [
  {
   "cell_type": "code",
   "execution_count": 1,
   "metadata": {},
   "outputs": [],
   "source": [
    "import numpy as np"
   ]
  },
  {
   "cell_type": "code",
   "execution_count": 4,
   "metadata": {},
   "outputs": [
    {
     "name": "stdout",
     "output_type": "stream",
     "text": [
      "[1. 1. 1. 1. 1. 1. 1. 1. 1.]\n"
     ]
    }
   ],
   "source": [
    "array = np.ones(9)\n",
    "print(array)"
   ]
  },
  {
   "cell_type": "code",
   "execution_count": 5,
   "metadata": {},
   "outputs": [
    {
     "name": "stdout",
     "output_type": "stream",
     "text": [
      "[2 3 4 5 6]\n",
      "[[1 2 3 4]\n",
      " [5 6 7 8]]\n"
     ]
    }
   ],
   "source": [
    "# Createing a 1d array\n",
    "\n",
    "a = np.array([2,3,4,5,6])\n",
    "\n",
    "print(a)\n",
    "\n",
    "# Creating a 2d array\n",
    "\n",
    "b = np.array([[1,2,3,4], [5,6,7,8]])\n",
    "print(b)\n"
   ]
  },
  {
   "cell_type": "code",
   "execution_count": 9,
   "metadata": {},
   "outputs": [
    {
     "name": "stdout",
     "output_type": "stream",
     "text": [
      "1\n",
      "2\n"
     ]
    }
   ],
   "source": [
    "# Getting the dimension of the array\n",
    "print(a.ndim)\n",
    "print(b.ndim)\n"
   ]
  },
  {
   "cell_type": "code",
   "execution_count": 10,
   "metadata": {},
   "outputs": [
    {
     "name": "stdout",
     "output_type": "stream",
     "text": [
      "(5,)\n",
      "(2, 4)\n"
     ]
    }
   ],
   "source": [
    "# Getting the shape of numpy arrays\n",
    "print(a.shape)\n",
    "print(b.shape) # returns (2 rows, 4 colms)"
   ]
  },
  {
   "cell_type": "code",
   "execution_count": 11,
   "metadata": {},
   "outputs": [
    {
     "name": "stdout",
     "output_type": "stream",
     "text": [
      "int32\n"
     ]
    }
   ],
   "source": [
    "# Getting the datatype of the array in numpy\n",
    "\n",
    "print(a.dtype) # int32"
   ]
  },
  {
   "cell_type": "code",
   "execution_count": 12,
   "metadata": {},
   "outputs": [
    {
     "name": "stdout",
     "output_type": "stream",
     "text": [
      "int16\n"
     ]
    }
   ],
   "source": [
    "# Specifing the datatype in a numpy array\n",
    "\n",
    "c = np.array([2, 3,4,5,6,8,9], dtype='int16')\n",
    "\n",
    "# getting the datatype of numpy array c\n",
    "\n",
    "print(c.dtype) # int16"
   ]
  },
  {
   "cell_type": "code",
   "execution_count": 13,
   "metadata": {},
   "outputs": [
    {
     "name": "stdout",
     "output_type": "stream",
     "text": [
      "4\n",
      "2\n"
     ]
    }
   ],
   "source": [
    "# Getting the size of the array\n",
    "\n",
    "# int32 type\n",
    "print(a.itemsize) # 4\n",
    "# the int16 type\n",
    "print(c.itemsize) # 2\n"
   ]
  },
  {
   "cell_type": "code",
   "execution_count": 15,
   "metadata": {},
   "outputs": [
    {
     "name": "stdout",
     "output_type": "stream",
     "text": [
      "8\n"
     ]
    }
   ],
   "source": [
    "#  Getting the total number of elements in the array\n",
    "\n",
    "print(b\n",
    "    .size)"
   ]
  },
  {
   "cell_type": "code",
   "execution_count": 16,
   "metadata": {},
   "outputs": [
    {
     "name": "stdout",
     "output_type": "stream",
     "text": [
      "20\n",
      "20\n"
     ]
    }
   ],
   "source": [
    "## Getting the total size of an array\n",
    "\n",
    "## ------------ METHOD 1\n",
    "print(a.itemsize * a.size)\n",
    "##------------- METHOD 2\n",
    "print(a.nbytes)\n"
   ]
  },
  {
   "cell_type": "code",
   "execution_count": 22,
   "metadata": {},
   "outputs": [
    {
     "name": "stdout",
     "output_type": "stream",
     "text": [
      "(2, 6)\n",
      "12\n",
      "48\n",
      "48\n",
      "10\n",
      "10\n",
      "[ 2  4  6  8 10 12]\n",
      "[ 2  4  6  8 10 12]\n",
      "[30 12]\n",
      "[30 12]\n"
     ]
    }
   ],
   "source": [
    "npArray = np.array([[5, 10, 15, 20, 25, 30], [2, 4,6, 8, 10, 12]])\n",
    "# The shape\n",
    "print(npArray.shape)\n",
    "\n",
    "# The number of elements\n",
    "print(npArray.size)\n",
    "\n",
    "# The total memory in an array\n",
    "print(npArray.size * npArray.itemsize)\n",
    "# OR\n",
    "print(npArray.nbytes)\n",
    "\n",
    "\n",
    "# GETTING THE ELEMENT 10 IN OUR ARRAY\n",
    "\n",
    "print(npArray[1, -2])\n",
    "# OR\n",
    "print(npArray[1, 4])\n",
    "\n",
    "# GETTING A SPECIFIC ROW\n",
    "print(npArray[1, :])\n",
    "# OR \n",
    "print(npArray[-1: :][0])\n",
    "\n",
    "# GETTING A SPECIFIC COLUMN (last column)\n",
    "print(npArray[:, -1])\n",
    "print(npArray[:, 5])\n"
   ]
  },
  {
   "cell_type": "code",
   "execution_count": 26,
   "metadata": {},
   "outputs": [
    {
     "name": "stdout",
     "output_type": "stream",
     "text": [
      "[ 5 15 25]\n"
     ]
    }
   ],
   "source": [
    "### Numpy array indexing using `array[index, startindex, endindex, step]`\n",
    "\n",
    "# Let's say we want to get all the numbers that ends with 5\n",
    "\n",
    "print(npArray[0, 0: -1: 2])\n",
    "\n"
   ]
  },
  {
   "cell_type": "code",
   "execution_count": 40,
   "metadata": {},
   "outputs": [
    {
     "name": "stdout",
     "output_type": "stream",
     "text": [
      "100\n"
     ]
    },
    {
     "data": {
      "text/plain": [
       "array([[ 99,  10,  99,  20,  99,  30],\n",
       "       [  2,   4,   6,   8, 100,  12]])"
      ]
     },
     "execution_count": 40,
     "metadata": {},
     "output_type": "execute_result"
    }
   ],
   "source": [
    "## Changing the item value in an array `array[index, index] = value`\n",
    "\n",
    "# Let's say we ant to update 10 in the npArray to be 100\n",
    "\n",
    "npArray[1, -2] = 100\n",
    "print(npArray[1,-2]) # 100\n",
    "\n",
    "# Let's say now we want to change all the numbers that ends with 5 to have a value of 99\n",
    "npArray[0, 0: -1:2] = 99\n",
    "\n",
    "npArray"
   ]
  },
  {
   "cell_type": "code",
   "execution_count": 53,
   "metadata": {},
   "outputs": [
    {
     "name": "stdout",
     "output_type": "stream",
     "text": [
      "3\n",
      "20\n",
      "80\n",
      "18\n"
     ]
    }
   ],
   "source": [
    "\n",
    "# 3 Dimensional Array\n",
    "\n",
    "np3D = np.array([\n",
    "    [\n",
    "        [2,4,6,8,10],\n",
    "        [4,8,12,16,20]\n",
    "    ],\n",
    "    [\n",
    "        [3,6,9, 12, 15],\n",
    "        [6,12,18, 24, 30]\n",
    "    ]\n",
    "])\n",
    "\n",
    "#  Getting the dimension\n",
    "\n",
    "print(np3D.ndim) # 3\n",
    "\n",
    "# Getting the total elements\n",
    "print(np3D.size) # 20\n",
    "\n",
    "# Getting the total memory\n",
    "print(np3D.nbytes) # 80\n",
    "\n",
    "# Getting the element 18 from the array\n",
    "print(np3D[-1,-1, -3]) # 18\n",
    "\n"
   ]
  },
  {
   "cell_type": "markdown",
   "metadata": {},
   "source": [
    "## Initializing Different types of arrays"
   ]
  },
  {
   "cell_type": "code",
   "execution_count": null,
   "metadata": {},
   "outputs": [],
   "source": [
    "## Initializing Different types of arrays\n",
    "\n",
    "### np.zeros(shape, type)\n",
    "zeros = np.zeros([2, 4, 6])\n",
    "zeros\n",
    "print(zeros.dtype)\n",
    "\n",
    "### np.ones(shape, type)\n",
    "ones = np.ones((2, 3,5), dtype=np.uint32)\n",
    "ones\n",
    "\n",
    "### any number 255\n",
    "\n",
    "whiteImage = np.full((4,4), 255, dtype='uint32')\n",
    "whiteImage\n",
    "\n",
    "### full_like\n",
    "# Let's say we want to generate the array of 100s that has the same shape with whiteImage array\n",
    "\n",
    "array100s = np.full_like(whiteImage, 9)\n",
    "array100s\n"
   ]
  },
  {
   "cell_type": "code",
   "execution_count": 75,
   "metadata": {},
   "outputs": [
    {
     "data": {
      "text/plain": [
       "array([[[ 6,  0, 14,  0,  7, 10, 12],\n",
       "        [ 7,  1,  7, -3, -7, -5,  3],\n",
       "        [ 3, 12,  9, -4,  7, -6,  2],\n",
       "        [-6, 12,  5, -5, 13,  3, 13],\n",
       "        [-4,  6,  2, 14, -3,  4,  2],\n",
       "        [ 1, 12,  7, -1,  7,  6,  6],\n",
       "        [ 8, 14,  2, -6,  5, 10, -5],\n",
       "        [10,  2, 11, -6, -2,  7, -2],\n",
       "        [ 6, -7,  0, -1, -2,  0, 14]],\n",
       "\n",
       "       [[ 2,  4,  3, -3,  8,  9, -6],\n",
       "        [10, 11, -1, -5,  3,  7, 10],\n",
       "        [ 8, -7, 14, 13,  3, 13, 13],\n",
       "        [13, 10, 14,  1, 12,  6, -3],\n",
       "        [10,  9, -1,  5,  3,  4,  1],\n",
       "        [ 4, -1, -6,  6, -5,  3,  2],\n",
       "        [10,  3, -6,  0,  6,  1, 11],\n",
       "        [-7, -6,  6,  7, -6, -3,  8],\n",
       "        [ 9,  6, 14, -7, -2, 12, -7]],\n",
       "\n",
       "       [[ 8,  3, -3,  7, -7, 10, 10],\n",
       "        [ 8, -4, -6,  9, -5, 14,  2],\n",
       "        [ 5,  8,  5, -6, -5,  2,  7],\n",
       "        [13, -7, 12,  1,  0, 13, -3],\n",
       "        [-6, 12,  5, -7,  9, 14, -1],\n",
       "        [-6, 10, -3, -5,  3, -1, 14],\n",
       "        [-1, 14,  0, -5, -6,  2,  1],\n",
       "        [12,  4,  7, 11,  0, 11, -1],\n",
       "        [ 3,  4, -6,  3, 10, 12,  8]],\n",
       "\n",
       "       [[ 7, -1, -3,  0, 12,  0,  7],\n",
       "        [14, -6,  6, 11, 11, 12, 12],\n",
       "        [11,  1,  7,  2,  6, 12, -5],\n",
       "        [-4,  5,  4, -2, -3,  0,  3],\n",
       "        [ 4,  1, -7, 11,  6,  6,  0],\n",
       "        [-2,  2, 12, -6, -5, -3, -6],\n",
       "        [ 3, -7,  7, 10, -5, -5, -5],\n",
       "        [10, -1,  3, 14, -7,  3,  8],\n",
       "        [-7,  1, -7, 10, 10,  7,  7]],\n",
       "\n",
       "       [[11,  8,  0, 14, 10, 10, 13],\n",
       "        [ 0,  5, -7, -3,  2, -1,  3],\n",
       "        [-2, -1, -1, -2, -7, -6, -2],\n",
       "        [ 7,  3,  7,  0,  1,  9, 13],\n",
       "        [-5, 12,  8,  2,  7, -6, 12],\n",
       "        [-7,  2, -2, -5,  0,  6, 13],\n",
       "        [-2, -1, -3, -7, 10,  8, -6],\n",
       "        [14, -2, 12,  0,  8,  2, -2],\n",
       "        [ 8, -5, -6, 14, -4, 12,  2]],\n",
       "\n",
       "       [[13,  4, -1,  8, 13, 13, 11],\n",
       "        [ 3,  4, -3,  3,  5, -4,  3],\n",
       "        [ 3, -5, -5, 13,  7, -1, -6],\n",
       "        [10, 11,  8, 10,  1, -7, 12],\n",
       "        [ 1, -4,  2,  3, -7, -6, -3],\n",
       "        [-4, -1, -5, -5, -1,  6, -4],\n",
       "        [ 8,  7,  7, -3,  6,  2, 14],\n",
       "        [-4,  8,  1,  1, 13,  8, 14],\n",
       "        [-5,  3,  0, -6,  0, -3, -7]],\n",
       "\n",
       "       [[12, 10, 12,  7, -5, -1,  6],\n",
       "        [-2,  0,  5, -2, -6,  5,  3],\n",
       "        [ 1,  7,  4,  6,  9, 10,  2],\n",
       "        [-2,  3, -2,  5,  9,  3,  8],\n",
       "        [ 7, 11,  7, -5,  5,  1,  0],\n",
       "        [ 4, -2, -7,  1, -1, -5, 10],\n",
       "        [ 7,  1, 11,  5, 10,  8, 11],\n",
       "        [ 2, 12, -3, 10,  1,  9,  1],\n",
       "        [-5,  7,  0,  6,  1,  5,  2]]])"
      ]
     },
     "execution_count": 75,
     "metadata": {},
     "output_type": "execute_result"
    }
   ],
   "source": [
    "# generating an array of decimals\n",
    "\n",
    "randomFloat = np.random.rand(2,3,6)\n",
    "randomFloat\n",
    "\n",
    "# Generating an array of integers\n",
    "randomInt = np.random.randint(-7, 15, size=(7, 9,7))\n",
    "randomInt\n"
   ]
  },
  {
   "cell_type": "code",
   "execution_count": 78,
   "metadata": {},
   "outputs": [
    {
     "data": {
      "text/plain": [
       "array([[1, 0, 0, 0],\n",
       "       [0, 1, 0, 0],\n",
       "       [0, 0, 1, 0],\n",
       "       [0, 0, 0, 1]], dtype=int8)"
      ]
     },
     "execution_count": 78,
     "metadata": {},
     "output_type": "execute_result"
    }
   ],
   "source": [
    "# np.identity(number, dtype)\n",
    "# Generates the identity matrix\n",
    "identity = np.identity(4, dtype='int8')\n",
    "identity\n"
   ]
  },
  {
   "cell_type": "code",
   "execution_count": 7,
   "metadata": {},
   "outputs": [
    {
     "data": {
      "text/plain": [
       "array([[ 0,  1,  2,  3,  4],\n",
       "       [ 5,  6,  7,  8,  9],\n",
       "       [10, 11, 12, 13, 14]])"
      ]
     },
     "execution_count": 7,
     "metadata": {},
     "output_type": "execute_result"
    }
   ],
   "source": [
    "## Generating element's using the np.arange(15).reshape(3, 5) methods\n",
    "\n",
    "arr = np.arange(15).reshape(3,5)\n",
    "arr\n"
   ]
  },
  {
   "cell_type": "code",
   "execution_count": null,
   "metadata": {},
   "outputs": [],
   "source": []
  },
  {
   "cell_type": "code",
   "execution_count": 80,
   "metadata": {},
   "outputs": [
    {
     "data": {
      "text/plain": [
       "array([[2, 2, 2, 4, 4, 4, 6, 6, 6]])"
      ]
     },
     "execution_count": 80,
     "metadata": {},
     "output_type": "execute_result"
    }
   ],
   "source": [
    "# Repeating an array\n",
    "\n",
    "arr1 = np.array([[2,4,6]])\n",
    "arr2 = np.repeat(arr1, 3, axis=0) #  repeates vertically\n",
    "arr2\n",
    "\n",
    "arr3 = np.repeat(arr1, 3, axis=1) # Repeats horizontally\n",
    "arr3"
   ]
  },
  {
   "cell_type": "markdown",
   "metadata": {},
   "source": [
    "## Universal Functions"
   ]
  },
  {
   "cell_type": "code",
   "execution_count": 10,
   "metadata": {},
   "outputs": [
    {
     "data": {
      "text/plain": [
       "array([0, 1, 2, 3, 4, 5, 6, 7, 8, 9])"
      ]
     },
     "execution_count": 10,
     "metadata": {},
     "output_type": "execute_result"
    }
   ],
   "source": [
    "# the arange(n) function that generates 1-d array of integers from 0 to n-1\n",
    "\n",
    "a = np.arange(10)\n",
    "a # array([0, 1, 2, 3, 4, 5, 6, 7, 8, 9])"
   ]
  },
  {
   "cell_type": "code",
   "execution_count": 11,
   "metadata": {},
   "outputs": [
    {
     "name": "stdout",
     "output_type": "stream",
     "text": [
      "False\n",
      "True\n",
      "True\n"
     ]
    }
   ],
   "source": [
    "#  the all function\n",
    "print(np.all(np.array([True, False, True, True, False]))) # False\n",
    "print(np.all(np.array([True, True]))) # True\n",
    "print(np.all(np.array([1,2, 3,-10]))) # True"
   ]
  },
  {
   "cell_type": "code",
   "execution_count": 13,
   "metadata": {},
   "outputs": [
    {
     "name": "stdout",
     "output_type": "stream",
     "text": [
      "True\n",
      "False\n",
      "True\n"
     ]
    }
   ],
   "source": [
    "# the Any function\n",
    "print(np.any(np.array([True, False, True, True, False]))) # True\n",
    "print(np.any(np.array([not True, not True]))) # False\n",
    "print(np.any(np.array([1,2, 3,-10]))) # True"
   ]
  },
  {
   "cell_type": "code",
   "execution_count": 19,
   "metadata": {},
   "outputs": [
    {
     "name": "stdout",
     "output_type": "stream",
     "text": [
      "6\n",
      "[3 0]\n"
     ]
    }
   ],
   "source": [
    "# argmax function\n",
    "print(np.argmax(np.array([1,10,-19,9, 0,56,108,-76]))) # 6\n"
   ]
  },
  {
   "cell_type": "code",
   "execution_count": 22,
   "metadata": {},
   "outputs": [
    {
     "name": "stdout",
     "output_type": "stream",
     "text": [
      "7\n"
     ]
    }
   ],
   "source": [
    "# argmin\n",
    "print(np.argmin(np.array([1,10,-19,9, 0,56,108,-76]))) # 6\n",
    "\n"
   ]
  },
  {
   "cell_type": "code",
   "execution_count": 23,
   "metadata": {},
   "outputs": [
    {
     "name": "stdout",
     "output_type": "stream",
     "text": [
      "[7 2 4 0 3 1 5 6]\n"
     ]
    }
   ],
   "source": [
    "# argsort function\n",
    "\n",
    "print(np.argsort(np.array([1,10,-19,9, 0,56,108,-76]))) # [7 2 4 0 3 1 5 6]\n"
   ]
  },
  {
   "cell_type": "code",
   "execution_count": 24,
   "metadata": {},
   "outputs": [
    {
     "name": "stdout",
     "output_type": "stream",
     "text": [
      "11.125\n"
     ]
    }
   ],
   "source": [
    "# average function\n",
    "print(np.average(np.array([1,10,-19,9, 0,56,108,-76]))) # 11.125"
   ]
  },
  {
   "cell_type": "code",
   "execution_count": 27,
   "metadata": {},
   "outputs": [
    {
     "name": "stdout",
     "output_type": "stream",
     "text": [
      "[1 2 1 0 0 0 1 1]\n"
     ]
    }
   ],
   "source": [
    "# bincount\n",
    "print(np.bincount(np.array([1,1,2,6,7,0]))) # [1 2 1 0 0 0 1 1]"
   ]
  },
  {
   "cell_type": "code",
   "execution_count": 28,
   "metadata": {},
   "outputs": [
    {
     "name": "stdout",
     "output_type": "stream",
     "text": [
      "[ 2.  3.  7. -6. 10.  9.]\n"
     ]
    }
   ],
   "source": [
    "# ciel function\n",
    "\n",
    "print(np.ceil(np.array([1.2, 2.8, 6.9, -6,10,9]))) # [ 2.  3.  7. -6. 10.  9.]"
   ]
  },
  {
   "cell_type": "code",
   "execution_count": 29,
   "metadata": {},
   "outputs": [
    {
     "name": "stdout",
     "output_type": "stream",
     "text": [
      "[ 1.  2.  6. -6. 10.  9.]\n"
     ]
    }
   ],
   "source": [
    "# floor function\n",
    "print(np.floor(np.array([1.2, 2.8, 6.9, -6,10,9]))) # [ 1.  2.  6. -6. 10.  9.]"
   ]
  },
  {
   "cell_type": "code",
   "execution_count": 34,
   "metadata": {},
   "outputs": [
    {
     "name": "stdout",
     "output_type": "stream",
     "text": [
      "[2 2 2 3 4 5 6 7 8 8]\n"
     ]
    }
   ],
   "source": [
    "# clip function\n",
    "print(np.clip(np.arange(10), 2, 8)) # [2 2 2 3 4 5 6 7 8 8]"
   ]
  },
  {
   "cell_type": "code",
   "execution_count": 36,
   "metadata": {},
   "outputs": [
    {
     "name": "stdout",
     "output_type": "stream",
     "text": [
      "[ 2  6 30]\n"
     ]
    }
   ],
   "source": [
    "# cumprod function\n",
    "print(np.cumprod(np.array([2,3,5]))) # [ 2  6 30]"
   ]
  },
  {
   "cell_type": "code",
   "execution_count": 37,
   "metadata": {},
   "outputs": [
    {
     "name": "stdout",
     "output_type": "stream",
     "text": [
      "[ 2  5 10]\n"
     ]
    }
   ],
   "source": [
    "# cumsum function\n",
    "print(np.cumsum(np.array([2,3,5]))) # [ 2  5 10]"
   ]
  },
  {
   "cell_type": "code",
   "execution_count": 43,
   "metadata": {},
   "outputs": [
    {
     "name": "stdout",
     "output_type": "stream",
     "text": [
      "75\n"
     ]
    }
   ],
   "source": [
    "# max function\n",
    "\n",
    "print(np.max(np.random.randint(1, 100, 5))) # a random numbaer"
   ]
  },
  {
   "cell_type": "code",
   "execution_count": 44,
   "metadata": {},
   "outputs": [
    {
     "name": "stdout",
     "output_type": "stream",
     "text": [
      "15\n"
     ]
    }
   ],
   "source": [
    "# min function\n",
    "print(np.min(np.random.randint(1, 100, 5))) # a random numbaer"
   ]
  },
  {
   "cell_type": "code",
   "execution_count": 46,
   "metadata": {},
   "outputs": [
    {
     "name": "stdout",
     "output_type": "stream",
     "text": [
      "[2 5 4]\n"
     ]
    }
   ],
   "source": [
    "# maximum function\n",
    "print (np.maximum([2, 3, 4], [1, 5, 2])) # [2 5 4]"
   ]
  },
  {
   "cell_type": "code",
   "execution_count": 48,
   "metadata": {},
   "outputs": [
    {
     "name": "stdout",
     "output_type": "stream",
     "text": [
      "[1 3 2]\n"
     ]
    }
   ],
   "source": [
    "# minimum function\n",
    "print (np.minimum([2, 3, 4], [1, 5, 2])) # [1 3 2]"
   ]
  },
  {
   "cell_type": "code",
   "execution_count": 49,
   "metadata": {},
   "outputs": [
    {
     "name": "stdout",
     "output_type": "stream",
     "text": [
      "1.0\n"
     ]
    }
   ],
   "source": [
    "# mean \n",
    "print(np.mean(np.ones((5,)))) # 1.0"
   ]
  },
  {
   "cell_type": "code",
   "execution_count": 50,
   "metadata": {},
   "outputs": [
    {
     "name": "stdout",
     "output_type": "stream",
     "text": [
      "5.0\n"
     ]
    }
   ],
   "source": [
    "# Median\n",
    "print(np.median(np.array([2, 5, -6, 8, 9]))) # 5"
   ]
  },
  {
   "cell_type": "code",
   "execution_count": 64,
   "metadata": {},
   "outputs": [
    {
     "name": "stdout",
     "output_type": "stream",
     "text": [
      "(array([2, 3, 4, 6, 7, 8], dtype=int64),)\n"
     ]
    }
   ],
   "source": [
    "# nonzero function\n",
    "print(np.nonzero(np.round(np.array(np.random.rand(10))))) # (array([2, 3, 4, 6, 7, 8], dtype=int64),)"
   ]
  },
  {
   "cell_type": "code",
   "execution_count": 66,
   "metadata": {},
   "outputs": [
    {
     "name": "stdout",
     "output_type": "stream",
     "text": [
      "24\n"
     ]
    }
   ],
   "source": [
    "# prod function\n",
    "print(np.prod(np.array([2,2,2,3]))) # 24"
   ]
  },
  {
   "cell_type": "code",
   "execution_count": 67,
   "metadata": {},
   "outputs": [
    {
     "data": {
      "text/plain": [
       "array([1., 0., 0., 0., 0., 0., 0., 0., 0., 1.])"
      ]
     },
     "execution_count": 67,
     "metadata": {},
     "output_type": "execute_result"
    }
   ],
   "source": [
    "# round function\n",
    "np.round(np.array(np.random.rand(10))) # a random array"
   ]
  },
  {
   "cell_type": "code",
   "execution_count": 68,
   "metadata": {},
   "outputs": [
    {
     "data": {
      "text/plain": [
       "array([-6,  0,  1,  2,  7, 10])"
      ]
     },
     "execution_count": 68,
     "metadata": {},
     "output_type": "execute_result"
    }
   ],
   "source": [
    "# sort function\n",
    "np.sort(np.array([1, 2,10, 0,7,-6])) # array([-6,  0,  1,  2,  7, 10])"
   ]
  },
  {
   "cell_type": "code",
   "execution_count": 69,
   "metadata": {},
   "outputs": [
    {
     "data": {
      "text/plain": [
       "3.6996621467371855"
      ]
     },
     "execution_count": 69,
     "metadata": {},
     "output_type": "execute_result"
    }
   ],
   "source": [
    "# std function [standard deviation]\n",
    "np.std(np.array([5, 9, 9, 0])) # 3.6996621467371855"
   ]
  },
  {
   "cell_type": "code",
   "execution_count": 70,
   "metadata": {},
   "outputs": [
    {
     "data": {
      "text/plain": [
       "5.0"
      ]
     },
     "execution_count": 70,
     "metadata": {},
     "output_type": "execute_result"
    }
   ],
   "source": [
    "# sum funstcion\n",
    "np.sum(np.ones(5)) # 5"
   ]
  },
  {
   "cell_type": "code",
   "execution_count": 71,
   "metadata": {},
   "outputs": [
    {
     "data": {
      "text/plain": [
       "13.6875"
      ]
     },
     "execution_count": 71,
     "metadata": {},
     "output_type": "execute_result"
    }
   ],
   "source": [
    "# var function the varience of the array\n",
    "np.var(np.array([5, 9, 9, 0])) # 13.6875"
   ]
  },
  {
   "cell_type": "code",
   "execution_count": null,
   "metadata": {},
   "outputs": [],
   "source": []
  },
  {
   "cell_type": "markdown",
   "metadata": {},
   "source": [
    "## Copying arrays\n"
   ]
  },
  {
   "cell_type": "code",
   "execution_count": 84,
   "metadata": {},
   "outputs": [
    {
     "name": "stdout",
     "output_type": "stream",
     "text": [
      "[1 2 3 4 5]\n",
      "[  1   2   3   4 500]\n",
      "[  1   2   3   4 500]\n",
      "[1 2 3 4 5]\n",
      "[  1   2   3   4 500]\n",
      "[1 2 3 4 5]\n"
     ]
    }
   ],
   "source": [
    "## Copying arrays\n",
    "\n",
    "array1 = np.array([1,2,3,4,5])\n",
    "array2 = array1\n",
    "print(array2) # [1 2 3 4 5]\n",
    "array2[-1]= 500\n",
    "print(array2) # [1 2 3 4 500]\n",
    "# Array1 also changes \n",
    "print(array1) # [1 2 3 4 500]\n",
    "\n",
    "\n",
    "##-------------------------\n",
    "\n",
    "array1 = np.array([1,2,3,4,5])\n",
    "array2 = array1.copy()\n",
    "print(array2) # [1 2 3 4 5]\n",
    "array2[-1]= 500\n",
    "print(array2) # [1 2 3 4 500]\n",
    "# Array1 also changes \n",
    "print(array1) # [1 2 3 4 5]\n",
    "\n"
   ]
  },
  {
   "cell_type": "code",
   "execution_count": 91,
   "metadata": {},
   "outputs": [
    {
     "name": "stdout",
     "output_type": "stream",
     "text": [
      "[ 0.90929743  0.14112001 -0.7568025  -0.95892427  0.41211849  0.89399666]\n",
      "[-0.41614684 -0.9899925  -0.65364362  0.28366219 -0.91113026 -0.44807362]\n",
      "[-2.18503986 -0.14254654  1.15782128 -3.38051501 -0.45231566 -1.99520041]\n",
      "[  2   6  12  20  45 540]\n",
      "[          2           9          64         625       59049 -1134944704]\n",
      "[ 2.          1.5         1.33333333  1.25        1.8        15.        ]\n",
      "[ 1  1  1  1  4 84]\n",
      "[ 3  5  7  9 14 96]\n",
      "[  2   6  12  20  45 540]\n",
      "[          2           9          64         625       59049 -1134944704]\n",
      "[ 2.          1.5         1.33333333  1.25        1.8        15.        ]\n",
      "[ 1  1  1  1  4 84]\n",
      "[ 3  5  7  9 14 96]\n"
     ]
    }
   ],
   "source": [
    "\n",
    "a = np.array([2,3,4,5,9,90])\n",
    "\n",
    "\n",
    "\n",
    "### Trigonometry\n",
    "print(np.sin(a))\n",
    "print(np.cos(a))\n",
    "print(np.tan(a)) \n",
    "#  There are more\n",
    "\n",
    "### Maths on two arrays\n",
    "b = np.array([1,2,3,4,5,6])\n",
    "print(a * b)\n",
    "print(a ** b)\n",
    "print(a / b)\n",
    "print(a - b)\n",
    "print(a + b)\n",
    "# There are more\n",
    "\n",
    "### Math on one array\n",
    "print(a * b)\n",
    "print(a ** b)\n",
    "print(a / b)\n",
    "print(a - b)\n",
    "print(a + b)\n",
    "# There are more\n"
   ]
  },
  {
   "cell_type": "code",
   "execution_count": 95,
   "metadata": {},
   "outputs": [
    {
     "name": "stdout",
     "output_type": "stream",
     "text": [
      "[[3 3]\n",
      " [3 3]]\n",
      "[[6 6]\n",
      " [6 6]]\n",
      "0.0\n"
     ]
    }
   ],
   "source": [
    "# Linear Algebra\n",
    "\n",
    "a = np.ones([2, 2], dtype='int32')\n",
    "b = np.full([2,2], 3, dtype= 'int32')\n",
    "\n",
    "print(a * b) \n",
    "# The correct way\n",
    "print(np.matmul(a, b))\n",
    "\n",
    "\n",
    "## Getting the deteminant of a\n",
    "print(np.linalg.det(b))\n"
   ]
  },
  {
   "cell_type": "code",
   "execution_count": 98,
   "metadata": {},
   "outputs": [
    {
     "name": "stdout",
     "output_type": "stream",
     "text": [
      "100\n",
      "-90\n",
      "239\n"
     ]
    }
   ],
   "source": [
    "# Statistics with numpy\n",
    "\n",
    "arr = np.array([[2, 3, 4, 5,-1,9],[100, 19, 100, 78,10,-90]])\n",
    "\n",
    "print(np.max(arr))\n",
    "\n",
    "print(np.min(arr))\n",
    "\n",
    "print(np.sum(arr))"
   ]
  },
  {
   "cell_type": "code",
   "execution_count": 106,
   "metadata": {},
   "outputs": [
    {
     "name": "stdout",
     "output_type": "stream",
     "text": [
      "(2, 4)\n",
      "(1, 8)\n"
     ]
    },
    {
     "data": {
      "text/plain": [
       "array([[  2,   3,   4,   5, 100,  19, 100,   7]])"
      ]
     },
     "execution_count": 106,
     "metadata": {},
     "output_type": "execute_result"
    }
   ],
   "source": [
    "# Reshaping arrays\n",
    "\n",
    "arr = np.array([[2, 3, 4,5],[100, 19, 100, 7]])\n",
    "print(arr.shape) # (2,4)\n",
    "\n",
    "arr2 = arr.reshape([1, 8])\n",
    "print(arr2.shape) # (1, 8)\n",
    "\n",
    "\n",
    "\n"
   ]
  },
  {
   "cell_type": "code",
   "execution_count": 108,
   "metadata": {
    "scrolled": true
   },
   "outputs": [
    {
     "name": "stdout",
     "output_type": "stream",
     "text": [
      "[[2 3 4 5 8]\n",
      " [1 2 3 4 5]]\n",
      "[2 3 4 5 8 1 2 3 4 5]\n"
     ]
    }
   ],
   "source": [
    "## Stacking arrays\n",
    "\n",
    "## Vertical stack of arrays or matrixes\n",
    "arr1 = np.array([2,3,4,5,8])\n",
    "arr2 = np.array([1,2,3,4,5])\n",
    "\n",
    "print(np.vstack([arr1, arr2]))\n",
    "\n",
    "# Horizontal stacking of arrays or matrixes\n",
    "\n",
    "arr1 = np.array([2,3,4,5,8])\n",
    "arr2 = np.array([1,2,3,4,5])\n",
    "\n",
    "print(np.hstack([arr1, arr2]))\n"
   ]
  },
  {
   "cell_type": "code",
   "execution_count": 116,
   "metadata": {},
   "outputs": [
    {
     "data": {
      "text/plain": [
       "array([[ 1,  2,  3,  4,  5,  6,  7,  8,  9, 10],\n",
       "       [11, 12, 13, 14, 15, 16, 17, 18, 19, 20],\n",
       "       [21, 22, 23, 24, 25, 26, 27, 28, 29, 30],\n",
       "       [31, 32, 33, 34, 35, 36, 37, 38, 39, 40],\n",
       "       [41, 42, 43, 44, 45, 46, 47, 48, 49, 50],\n",
       "       [51, 52, 53, 54, 55, 56, 57, 58, 59, 60],\n",
       "       [61, 62, 63, 64, 65, 66, 67, 68, 69, 70],\n",
       "       [71, 72, 73, 74, 75, 76, 77, 78, 79, 80]], dtype=int8)"
      ]
     },
     "execution_count": 116,
     "metadata": {},
     "output_type": "execute_result"
    }
   ],
   "source": [
    "# Generating arrays from a file\n",
    "\n",
    "## Suppose we have a file that has list of numbers seperated by a comma and we want to read this file and into a numpy array\n",
    "\n",
    "# with default dtype\n",
    "data = np.genfromtxt('data.txt', delimiter=',')\n",
    "data\n",
    "\n",
    "# As integer datatype\n",
    "\n",
    "data = np.genfromtxt('data.txt', delimiter=',', dtype='int32')\n",
    "data\n",
    "#  Or \n",
    "data.astype('int8')\n",
    "\n"
   ]
  },
  {
   "cell_type": "code",
   "execution_count": 120,
   "metadata": {},
   "outputs": [
    {
     "data": {
      "text/plain": [
       "array([ 1,  3,  5,  7,  9, 11, 13, 15, 17, 19, 21, 23, 25, 27, 29, 31, 33,\n",
       "       35, 37, 39, 41, 43, 45, 47, 49, 51, 53, 55, 57, 59, 61, 63, 65, 67,\n",
       "       69, 71, 73, 75, 77, 79])"
      ]
     },
     "execution_count": 120,
     "metadata": {},
     "output_type": "execute_result"
    }
   ],
   "source": [
    "# Advanced indexing and Boolean Masking\n",
    "\n",
    "data = np.genfromtxt('data.txt', delimiter=',', dtype='int32')\n",
    "\n",
    "data[data%2==1]"
   ]
  },
  {
   "cell_type": "code",
   "execution_count": 126,
   "metadata": {},
   "outputs": [
    {
     "data": {
      "text/plain": [
       "array([ 3,  5, 13, 19, 79])"
      ]
     },
     "execution_count": 126,
     "metadata": {},
     "output_type": "execute_result"
    }
   ],
   "source": [
    "#Indexing return elements that are at index, `1, 2, 6, 9` and the last element in the array `data` where elements are `ODD`\n",
    "\n",
    "data = np.genfromtxt('data.txt', delimiter=',', dtype='int32')\n",
    "data[data%2==1][[1, 2, 6, 9, -1]]\n",
    "\n",
    "\n",
    "\n"
   ]
  },
  {
   "cell_type": "markdown",
   "metadata": {},
   "source": [
    "### Transpose `np.array`\n",
    "* This means we are just flipping the axis"
   ]
  },
  {
   "cell_type": "code",
   "execution_count": 2,
   "metadata": {},
   "outputs": [
    {
     "data": {
      "text/plain": [
       "array([[2., 3., 4.],\n",
       "       [4., 5., 9.]])"
      ]
     },
     "execution_count": 2,
     "metadata": {},
     "output_type": "execute_result"
    }
   ],
   "source": [
    "A = np.array([\n",
    "    [2, 3, 4.],\n",
    "    [4, 5, 9]\n",
    "])\n",
    "A"
   ]
  },
  {
   "cell_type": "code",
   "execution_count": 3,
   "metadata": {},
   "outputs": [
    {
     "data": {
      "text/plain": [
       "array([[2., 4.],\n",
       "       [3., 5.],\n",
       "       [4., 9.]])"
      ]
     },
     "execution_count": 3,
     "metadata": {},
     "output_type": "execute_result"
    }
   ],
   "source": [
    "B = np.transpose(A)\n",
    "B"
   ]
  },
  {
   "cell_type": "markdown",
   "metadata": {},
   "source": [
    "### Trace"
   ]
  },
  {
   "cell_type": "code",
   "execution_count": 9,
   "metadata": {},
   "outputs": [
    {
     "data": {
      "text/plain": [
       "7.0"
      ]
     },
     "execution_count": 9,
     "metadata": {},
     "output_type": "execute_result"
    }
   ],
   "source": [
    "C = np.trace(A)\n",
    "C"
   ]
  },
  {
   "cell_type": "markdown",
   "metadata": {},
   "source": [
    "### `eye`\n",
    "* Create a matrix of shape n with `1s` on the diagonal and `0s` otherwise."
   ]
  },
  {
   "cell_type": "code",
   "execution_count": 11,
   "metadata": {},
   "outputs": [
    {
     "data": {
      "text/plain": [
       "array([[1., 0., 0.],\n",
       "       [0., 1., 0.],\n",
       "       [0., 0., 1.]])"
      ]
     },
     "execution_count": 11,
     "metadata": {},
     "output_type": "execute_result"
    }
   ],
   "source": [
    "a = np.eye(3)\n",
    "a"
   ]
  },
  {
   "cell_type": "code",
   "execution_count": 13,
   "metadata": {},
   "outputs": [
    {
     "data": {
      "text/plain": [
       "array([0., 1., 0., 0., 0., 0., 0., 0., 0., 0.])"
      ]
     },
     "execution_count": 13,
     "metadata": {},
     "output_type": "execute_result"
    }
   ],
   "source": [
    "one_hot_at_one = np.eye(10)[1]\n",
    "one_hot_at_one"
   ]
  },
  {
   "cell_type": "markdown",
   "metadata": {},
   "source": [
    "### Broadcasting\n",
    "* Here, we’re adding a vector with a scalar. Their dimensions aren’t compatible as is but how does NumPy still gives us the right result? This is where broadcasting comes in. The scalar is broadcast across the vector so that they have compatible shapes."
   ]
  },
  {
   "cell_type": "code",
   "execution_count": 14,
   "metadata": {},
   "outputs": [
    {
     "data": {
      "text/plain": [
       "array([16, 17, 18])"
      ]
     },
     "execution_count": 14,
     "metadata": {},
     "output_type": "execute_result"
    }
   ],
   "source": [
    "A = np.array(9)\n",
    "B = np.array([7, 8, 9])\n",
    "A+B"
   ]
  },
  {
   "cell_type": "code",
   "execution_count": null,
   "metadata": {},
   "outputs": [],
   "source": []
  },
  {
   "cell_type": "code",
   "execution_count": null,
   "metadata": {},
   "outputs": [],
   "source": []
  },
  {
   "cell_type": "code",
   "execution_count": null,
   "metadata": {},
   "outputs": [],
   "source": []
  },
  {
   "cell_type": "code",
   "execution_count": null,
   "metadata": {},
   "outputs": [],
   "source": []
  }
 ],
 "metadata": {
  "kernelspec": {
   "display_name": "Python 3",
   "language": "python",
   "name": "python3"
  },
  "language_info": {
   "codemirror_mode": {
    "name": "ipython",
    "version": 3
   },
   "file_extension": ".py",
   "mimetype": "text/x-python",
   "name": "python",
   "nbconvert_exporter": "python",
   "pygments_lexer": "ipython3",
   "version": "3.8.5"
  }
 },
 "nbformat": 4,
 "nbformat_minor": 4
}
